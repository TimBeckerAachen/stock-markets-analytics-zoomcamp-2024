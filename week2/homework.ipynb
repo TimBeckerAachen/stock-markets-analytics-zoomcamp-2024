{
 "cells": [
  {
   "cell_type": "code",
   "execution_count": 3,
   "id": "c5152447-00f9-4115-8b62-9fb37a1d2285",
   "metadata": {},
   "outputs": [],
   "source": [
    "import yfinance as yf\n",
    "import pandas as pd\n",
    "import requests\n",
    "import numpy as np"
   ]
  },
  {
   "cell_type": "markdown",
   "id": "70618a0e-f3fe-437e-8780-19a568857784",
   "metadata": {},
   "source": [
    "# Question 1: What's the total sum ($m) of 2023 filings that happenned of Fridays?"
   ]
  },
  {
   "cell_type": "markdown",
   "id": "0e278fe7-43b2-4d27-b87c-04b78713334d",
   "metadata": {},
   "source": [
    "Re-use the [Code Snippet 1] example to get the data from web for this endpoint: https://stockanalysis.com/ipos/filings/ Convert the 'Filing Date' to datetime(), 'Shares Offered' to float64 (if '-' is encountered, populate with NaNs). Define a new field 'Avg_price' based on the \"Price Range\", which equals to NaN if no price is specified, to the price (if only one number is provided), or to the average of 2 prices (if a range is given). You may be inspired by the function extract_numbers() in [Code Snippet 4], or you can write your own function to \"parse\" a string. Define a column \"Shares_offered_value\", which equals to \"Shares Offered\" * \"Avg_price\" (when both columns are defined; otherwise, it's NaN)\n",
    "\n",
    "Find the total sum in $m (millions of USD, closest INTEGER number) for all fillings during 2023, which happened on Fridays (Date.dt.dayofweek()==4). You should see 32 records in total, 24 of it is not null.\n",
    "\n",
    "(additional: you can read about S-1 IPO filing to understand the context)"
   ]
  },
  {
   "cell_type": "code",
   "execution_count": 4,
   "id": "be6495c4-5d1b-4278-bb83-7b594505d11d",
   "metadata": {},
   "outputs": [
    {
     "name": "stderr",
     "output_type": "stream",
     "text": [
      "/tmp/ipykernel_11775/4163700054.py:8: FutureWarning: Passing literal html to 'read_html' is deprecated and will be removed in a future version. To read from a literal string, wrap it in a 'StringIO' object.\n",
      "  filings_dfs = pd.read_html(response.text)\n"
     ]
    }
   ],
   "source": [
    "headers = {\n",
    "    'User-Agent': 'Mozilla/5.0 (Windows NT 10.0; Win64; x64) AppleWebKit/537.36 (KHTML, like Gecko) Chrome/58.0.3029.110 Safari/537.3',\n",
    "}\n",
    "\n",
    "url = \"https://stockanalysis.com/ipos/filings/\"\n",
    "response = requests.get(url, headers=headers)\n",
    "\n",
    "filings_dfs = pd.read_html(response.text)"
   ]
  },
  {
   "cell_type": "code",
   "execution_count": 5,
   "id": "7d139fef-8872-47bd-a890-703899fcb053",
   "metadata": {},
   "outputs": [
    {
     "name": "stdout",
     "output_type": "stream",
     "text": [
      "<class 'pandas.core.frame.DataFrame'>\n",
      "RangeIndex: 325 entries, 0 to 324\n",
      "Data columns (total 5 columns):\n",
      " #   Column          Non-Null Count  Dtype \n",
      "---  ------          --------------  ----- \n",
      " 0   Filing Date     325 non-null    object\n",
      " 1   Symbol          325 non-null    object\n",
      " 2   Company Name    325 non-null    object\n",
      " 3   Price Range     325 non-null    object\n",
      " 4   Shares Offered  325 non-null    object\n",
      "dtypes: object(5)\n",
      "memory usage: 12.8+ KB\n"
     ]
    }
   ],
   "source": [
    "filings = filings_dfs[0]\n",
    "filings.info()"
   ]
  },
  {
   "cell_type": "code",
   "execution_count": 6,
   "id": "7880af8f-3c0f-4385-b012-b550e3190d5f",
   "metadata": {
    "scrolled": true
   },
   "outputs": [
    {
     "data": {
      "text/html": [
       "<div>\n",
       "<style scoped>\n",
       "    .dataframe tbody tr th:only-of-type {\n",
       "        vertical-align: middle;\n",
       "    }\n",
       "\n",
       "    .dataframe tbody tr th {\n",
       "        vertical-align: top;\n",
       "    }\n",
       "\n",
       "    .dataframe thead th {\n",
       "        text-align: right;\n",
       "    }\n",
       "</style>\n",
       "<table border=\"1\" class=\"dataframe\">\n",
       "  <thead>\n",
       "    <tr style=\"text-align: right;\">\n",
       "      <th></th>\n",
       "      <th>Filing Date</th>\n",
       "      <th>Symbol</th>\n",
       "      <th>Company Name</th>\n",
       "      <th>Price Range</th>\n",
       "      <th>Shares Offered</th>\n",
       "    </tr>\n",
       "  </thead>\n",
       "  <tbody>\n",
       "    <tr>\n",
       "      <th>0</th>\n",
       "      <td>May 3, 2024</td>\n",
       "      <td>TBN</td>\n",
       "      <td>Tamboran Resources Corporation</td>\n",
       "      <td>-</td>\n",
       "      <td>-</td>\n",
       "    </tr>\n",
       "    <tr>\n",
       "      <th>1</th>\n",
       "      <td>Apr 29, 2024</td>\n",
       "      <td>HWEC</td>\n",
       "      <td>HW Electro Co., Ltd.</td>\n",
       "      <td>$3.00</td>\n",
       "      <td>3750000</td>\n",
       "    </tr>\n",
       "    <tr>\n",
       "      <th>2</th>\n",
       "      <td>Apr 29, 2024</td>\n",
       "      <td>DTSQ</td>\n",
       "      <td>DT Cloud Star Acquisition Corporation</td>\n",
       "      <td>$10.00</td>\n",
       "      <td>6000000</td>\n",
       "    </tr>\n",
       "    <tr>\n",
       "      <th>3</th>\n",
       "      <td>Apr 26, 2024</td>\n",
       "      <td>EURK</td>\n",
       "      <td>Eureka Acquisition Corp</td>\n",
       "      <td>$10.00</td>\n",
       "      <td>5000000</td>\n",
       "    </tr>\n",
       "    <tr>\n",
       "      <th>4</th>\n",
       "      <td>Apr 26, 2024</td>\n",
       "      <td>HDL</td>\n",
       "      <td>Super Hi International Holding Ltd.</td>\n",
       "      <td>-</td>\n",
       "      <td>-</td>\n",
       "    </tr>\n",
       "  </tbody>\n",
       "</table>\n",
       "</div>"
      ],
      "text/plain": [
       "    Filing Date Symbol                           Company Name Price Range  \\\n",
       "0   May 3, 2024    TBN         Tamboran Resources Corporation           -   \n",
       "1  Apr 29, 2024   HWEC                   HW Electro Co., Ltd.       $3.00   \n",
       "2  Apr 29, 2024   DTSQ  DT Cloud Star Acquisition Corporation      $10.00   \n",
       "3  Apr 26, 2024   EURK                Eureka Acquisition Corp      $10.00   \n",
       "4  Apr 26, 2024    HDL    Super Hi International Holding Ltd.           -   \n",
       "\n",
       "  Shares Offered  \n",
       "0              -  \n",
       "1        3750000  \n",
       "2        6000000  \n",
       "3        5000000  \n",
       "4              -  "
      ]
     },
     "execution_count": 6,
     "metadata": {},
     "output_type": "execute_result"
    }
   ],
   "source": [
    "filings.head()"
   ]
  },
  {
   "cell_type": "code",
   "execution_count": 7,
   "id": "e376e9db-0a2b-4d5a-b28c-8350bfbafca3",
   "metadata": {},
   "outputs": [],
   "source": [
    "filings['Filing Date'] = pd.to_datetime(filings['Filing Date'], format='%b %d, %Y')"
   ]
  },
  {
   "cell_type": "code",
   "execution_count": 8,
   "id": "b7dbcd52-95e7-4312-a0ec-5bf55e97a7f3",
   "metadata": {},
   "outputs": [
    {
     "data": {
      "text/html": [
       "<div>\n",
       "<style scoped>\n",
       "    .dataframe tbody tr th:only-of-type {\n",
       "        vertical-align: middle;\n",
       "    }\n",
       "\n",
       "    .dataframe tbody tr th {\n",
       "        vertical-align: top;\n",
       "    }\n",
       "\n",
       "    .dataframe thead th {\n",
       "        text-align: right;\n",
       "    }\n",
       "</style>\n",
       "<table border=\"1\" class=\"dataframe\">\n",
       "  <thead>\n",
       "    <tr style=\"text-align: right;\">\n",
       "      <th></th>\n",
       "      <th>Filing Date</th>\n",
       "      <th>Symbol</th>\n",
       "      <th>Company Name</th>\n",
       "      <th>Price Range</th>\n",
       "      <th>Shares Offered</th>\n",
       "    </tr>\n",
       "  </thead>\n",
       "  <tbody>\n",
       "    <tr>\n",
       "      <th>0</th>\n",
       "      <td>2024-05-03</td>\n",
       "      <td>TBN</td>\n",
       "      <td>Tamboran Resources Corporation</td>\n",
       "      <td>-</td>\n",
       "      <td>-</td>\n",
       "    </tr>\n",
       "    <tr>\n",
       "      <th>1</th>\n",
       "      <td>2024-04-29</td>\n",
       "      <td>HWEC</td>\n",
       "      <td>HW Electro Co., Ltd.</td>\n",
       "      <td>$3.00</td>\n",
       "      <td>3750000</td>\n",
       "    </tr>\n",
       "    <tr>\n",
       "      <th>2</th>\n",
       "      <td>2024-04-29</td>\n",
       "      <td>DTSQ</td>\n",
       "      <td>DT Cloud Star Acquisition Corporation</td>\n",
       "      <td>$10.00</td>\n",
       "      <td>6000000</td>\n",
       "    </tr>\n",
       "    <tr>\n",
       "      <th>3</th>\n",
       "      <td>2024-04-26</td>\n",
       "      <td>EURK</td>\n",
       "      <td>Eureka Acquisition Corp</td>\n",
       "      <td>$10.00</td>\n",
       "      <td>5000000</td>\n",
       "    </tr>\n",
       "    <tr>\n",
       "      <th>4</th>\n",
       "      <td>2024-04-26</td>\n",
       "      <td>HDL</td>\n",
       "      <td>Super Hi International Holding Ltd.</td>\n",
       "      <td>-</td>\n",
       "      <td>-</td>\n",
       "    </tr>\n",
       "  </tbody>\n",
       "</table>\n",
       "</div>"
      ],
      "text/plain": [
       "  Filing Date Symbol                           Company Name Price Range  \\\n",
       "0  2024-05-03    TBN         Tamboran Resources Corporation           -   \n",
       "1  2024-04-29   HWEC                   HW Electro Co., Ltd.       $3.00   \n",
       "2  2024-04-29   DTSQ  DT Cloud Star Acquisition Corporation      $10.00   \n",
       "3  2024-04-26   EURK                Eureka Acquisition Corp      $10.00   \n",
       "4  2024-04-26    HDL    Super Hi International Holding Ltd.           -   \n",
       "\n",
       "  Shares Offered  \n",
       "0              -  \n",
       "1        3750000  \n",
       "2        6000000  \n",
       "3        5000000  \n",
       "4              -  "
      ]
     },
     "execution_count": 8,
     "metadata": {},
     "output_type": "execute_result"
    }
   ],
   "source": [
    "filings.head()"
   ]
  },
  {
   "cell_type": "code",
   "execution_count": 9,
   "id": "c0d14812-9b63-4a94-94fc-c84ab8aa8b62",
   "metadata": {},
   "outputs": [],
   "source": [
    "filings.loc[filings['Shares Offered'].astype(str).str.find('-') >= 0, 'Shares Offered'] = np.nan\n",
    "filings['Shares Offered'] = pd.to_numeric(filings['Shares Offered'])"
   ]
  },
  {
   "cell_type": "code",
   "execution_count": 10,
   "id": "d676ff9a-e769-4786-b21e-b41404c627c0",
   "metadata": {},
   "outputs": [],
   "source": [
    "def get_avg_price(input_string):\n",
    "    if input_string == '-':\n",
    "        price = np.nan\n",
    "    elif len(input_string.split('-')) == 2:\n",
    "        lower, higher = input_string.split('-')\n",
    "        if '$' in lower:\n",
    "            lower = lower.split('$')[1]\n",
    "        if '$' in higher:\n",
    "            higher = higher.split('$')[1]\n",
    "        price = (float(lower) + float(higher)) / 2\n",
    "    elif input_string.startswith('$'):\n",
    "        price = float(input_string.split('$')[1])\n",
    "    else:\n",
    "        price = 'ERROR'\n",
    "    return price"
   ]
  },
  {
   "cell_type": "code",
   "execution_count": 11,
   "id": "2efb2a97-a540-472e-9f15-bbd13b591268",
   "metadata": {},
   "outputs": [
    {
     "data": {
      "text/plain": [
       "0"
      ]
     },
     "execution_count": 11,
     "metadata": {},
     "output_type": "execute_result"
    }
   ],
   "source": [
    "(filings['Price Range'].apply(lambda x: get_avg_price(x)) == 'ERROR').sum()"
   ]
  },
  {
   "cell_type": "code",
   "execution_count": 12,
   "id": "0810ec5d-9f20-4d46-b23a-3e571a2509b2",
   "metadata": {},
   "outputs": [],
   "source": [
    "filings['Avg_price'] = filings['Price Range'].apply(lambda x: get_avg_price(x))"
   ]
  },
  {
   "cell_type": "code",
   "execution_count": 13,
   "id": "ec07c0f0-6af1-4cb3-a94a-e5779f7052d7",
   "metadata": {},
   "outputs": [
    {
     "name": "stdout",
     "output_type": "stream",
     "text": [
      "<class 'pandas.core.frame.DataFrame'>\n",
      "RangeIndex: 325 entries, 0 to 324\n",
      "Data columns (total 6 columns):\n",
      " #   Column          Non-Null Count  Dtype         \n",
      "---  ------          --------------  -----         \n",
      " 0   Filing Date     325 non-null    datetime64[ns]\n",
      " 1   Symbol          325 non-null    object        \n",
      " 2   Company Name    325 non-null    object        \n",
      " 3   Price Range     325 non-null    object        \n",
      " 4   Shares Offered  252 non-null    float64       \n",
      " 5   Avg_price       258 non-null    float64       \n",
      "dtypes: datetime64[ns](1), float64(2), object(3)\n",
      "memory usage: 15.4+ KB\n"
     ]
    }
   ],
   "source": [
    "filings.info()"
   ]
  },
  {
   "cell_type": "code",
   "execution_count": 14,
   "id": "2c788ced-111e-4c99-a5e5-087daede00dd",
   "metadata": {},
   "outputs": [],
   "source": [
    "filings['Shares_offered_value'] = filings['Shares Offered'] * filings['Avg_price']"
   ]
  },
  {
   "cell_type": "code",
   "execution_count": 15,
   "id": "6d22448f-2e6f-4ced-9110-ee6cedc0a357",
   "metadata": {},
   "outputs": [
    {
     "data": {
      "text/html": [
       "<div>\n",
       "<style scoped>\n",
       "    .dataframe tbody tr th:only-of-type {\n",
       "        vertical-align: middle;\n",
       "    }\n",
       "\n",
       "    .dataframe tbody tr th {\n",
       "        vertical-align: top;\n",
       "    }\n",
       "\n",
       "    .dataframe thead th {\n",
       "        text-align: right;\n",
       "    }\n",
       "</style>\n",
       "<table border=\"1\" class=\"dataframe\">\n",
       "  <thead>\n",
       "    <tr style=\"text-align: right;\">\n",
       "      <th></th>\n",
       "      <th>Filing Date</th>\n",
       "      <th>Symbol</th>\n",
       "      <th>Company Name</th>\n",
       "      <th>Price Range</th>\n",
       "      <th>Shares Offered</th>\n",
       "      <th>Avg_price</th>\n",
       "      <th>Shares_offered_value</th>\n",
       "    </tr>\n",
       "  </thead>\n",
       "  <tbody>\n",
       "    <tr>\n",
       "      <th>0</th>\n",
       "      <td>2024-05-03</td>\n",
       "      <td>TBN</td>\n",
       "      <td>Tamboran Resources Corporation</td>\n",
       "      <td>-</td>\n",
       "      <td>NaN</td>\n",
       "      <td>NaN</td>\n",
       "      <td>NaN</td>\n",
       "    </tr>\n",
       "    <tr>\n",
       "      <th>1</th>\n",
       "      <td>2024-04-29</td>\n",
       "      <td>HWEC</td>\n",
       "      <td>HW Electro Co., Ltd.</td>\n",
       "      <td>$3.00</td>\n",
       "      <td>3750000.0</td>\n",
       "      <td>3.0</td>\n",
       "      <td>11250000.0</td>\n",
       "    </tr>\n",
       "    <tr>\n",
       "      <th>2</th>\n",
       "      <td>2024-04-29</td>\n",
       "      <td>DTSQ</td>\n",
       "      <td>DT Cloud Star Acquisition Corporation</td>\n",
       "      <td>$10.00</td>\n",
       "      <td>6000000.0</td>\n",
       "      <td>10.0</td>\n",
       "      <td>60000000.0</td>\n",
       "    </tr>\n",
       "    <tr>\n",
       "      <th>3</th>\n",
       "      <td>2024-04-26</td>\n",
       "      <td>EURK</td>\n",
       "      <td>Eureka Acquisition Corp</td>\n",
       "      <td>$10.00</td>\n",
       "      <td>5000000.0</td>\n",
       "      <td>10.0</td>\n",
       "      <td>50000000.0</td>\n",
       "    </tr>\n",
       "    <tr>\n",
       "      <th>4</th>\n",
       "      <td>2024-04-26</td>\n",
       "      <td>HDL</td>\n",
       "      <td>Super Hi International Holding Ltd.</td>\n",
       "      <td>-</td>\n",
       "      <td>NaN</td>\n",
       "      <td>NaN</td>\n",
       "      <td>NaN</td>\n",
       "    </tr>\n",
       "  </tbody>\n",
       "</table>\n",
       "</div>"
      ],
      "text/plain": [
       "  Filing Date Symbol                           Company Name Price Range  \\\n",
       "0  2024-05-03    TBN         Tamboran Resources Corporation           -   \n",
       "1  2024-04-29   HWEC                   HW Electro Co., Ltd.       $3.00   \n",
       "2  2024-04-29   DTSQ  DT Cloud Star Acquisition Corporation      $10.00   \n",
       "3  2024-04-26   EURK                Eureka Acquisition Corp      $10.00   \n",
       "4  2024-04-26    HDL    Super Hi International Holding Ltd.           -   \n",
       "\n",
       "   Shares Offered  Avg_price  Shares_offered_value  \n",
       "0             NaN        NaN                   NaN  \n",
       "1       3750000.0        3.0            11250000.0  \n",
       "2       6000000.0       10.0            60000000.0  \n",
       "3       5000000.0       10.0            50000000.0  \n",
       "4             NaN        NaN                   NaN  "
      ]
     },
     "execution_count": 15,
     "metadata": {},
     "output_type": "execute_result"
    }
   ],
   "source": [
    "filings.head()"
   ]
  },
  {
   "cell_type": "code",
   "execution_count": 16,
   "id": "1960d950-7237-4683-9e8f-4a313d15a806",
   "metadata": {},
   "outputs": [
    {
     "data": {
      "text/plain": [
       "(32,)"
      ]
     },
     "execution_count": 16,
     "metadata": {},
     "output_type": "execute_result"
    }
   ],
   "source": [
    "filings.loc[(filings['Filing Date'].dt.year == 2023) & (filings['Filing Date'].dt.dayofweek == 4), 'Shares_offered_value'].shape"
   ]
  },
  {
   "cell_type": "code",
   "execution_count": 22,
   "id": "cc49482b-0608-40ac-bc2c-7a37fad6d9bb",
   "metadata": {},
   "outputs": [
    {
     "data": {
      "text/plain": [
       "25"
      ]
     },
     "execution_count": 22,
     "metadata": {},
     "output_type": "execute_result"
    }
   ],
   "source": [
    "filings.loc[(filings['Filing Date'].dt.year == 2023) & (filings['Filing Date'].dt.dayofweek == 4), 'Shares_offered_value'].notna().sum()"
   ]
  },
  {
   "cell_type": "code",
   "execution_count": 23,
   "id": "dd568a07-6be5-49f2-b176-5eba30b0da5d",
   "metadata": {},
   "outputs": [
    {
     "data": {
      "text/plain": [
       "285.7"
      ]
     },
     "execution_count": 23,
     "metadata": {},
     "output_type": "execute_result"
    }
   ],
   "source": [
    "filings.loc[(filings['Filing Date'].dt.year == 2023) & (filings['Filing Date'].dt.dayofweek == 4), 'Shares_offered_value'].sum()/1000000"
   ]
  },
  {
   "cell_type": "markdown",
   "id": "25f0e7de-b78e-425d-814b-ae468afcecb9",
   "metadata": {},
   "source": [
    "286 millon $"
   ]
  },
  {
   "cell_type": "markdown",
   "id": "163b1eef-15b5-4762-9062-82d4403dc62c",
   "metadata": {},
   "source": [
    "# Question 2: Find the optimal number of days X (between 1 and 30), where 75% quantile growth is the highest?"
   ]
  },
  {
   "cell_type": "markdown",
   "id": "5e44f450-f6e9-4d96-9b9b-a867a3bcc20d",
   "metadata": {},
   "source": [
    "Reuse [Code Snippet 1] to retrieve the list of IPOs from 2023 and 2024 (from URLs: https://stockanalysis.com/ipos/2023/ and https://stockanalysis.com/ipos/2024/). Get all OHLCV daily prices for all stocks with an \"IPO date\" before March 1, 2024 (\"< 2024-03-01\") - 185 tickers. Sometimes you may need to adjust the symbol name (e.g., 'IBAC' on stockanalysis.com -> 'IBACU' on Yahoo Finance) to locate OHLCV prices for all stocks.\n",
    "\n",
    "Let's assume you managed to buy a new stock (listed on IPO) on the first day at the [Adj Close] price]. Your strategy is to hold for exactly X full days (where X is between 1 and 30) and sell at the \"Adj. Close\" price in X days (e.g., if X=1, you sell on the next day). Find X, when the 75% quantile growth (among 185 investments) is the highest.\n",
    "\n",
    "HINTs:\n",
    "\n",
    "You can generate 30 additional columns: growth_future_1d ... growth_future_30d, join that with the table of min_dates (first day when each stock has data on Yahoo Finance), and perform vector operations on the resulting dataset.\n",
    "You can use the DataFrame.describe() function to get mean, min, max, 25-50-75% quantiles.\n",
    "Addtional:\n",
    "\n",
    "You can also ensure that the mean and 50th percentile (median) investment returns are negative for most X values, implying a wager for a \"lucky\" investor who might be in the top 25%.\n",
    "What's your recommendation: Do you suggest pursuing this strategy for an optimal X?"
   ]
  },
  {
   "cell_type": "code",
   "execution_count": 24,
   "id": "213f7900-5bd8-4291-87b3-0b2a2a84317b",
   "metadata": {},
   "outputs": [
    {
     "name": "stdout",
     "output_type": "stream",
     "text": [
      "<class 'pandas.core.frame.DataFrame'>\n",
      "RangeIndex: 154 entries, 0 to 153\n",
      "Data columns (total 6 columns):\n",
      " #   Column        Non-Null Count  Dtype \n",
      "---  ------        --------------  ----- \n",
      " 0   IPO Date      154 non-null    object\n",
      " 1   Symbol        154 non-null    object\n",
      " 2   Company Name  154 non-null    object\n",
      " 3   IPO Price     154 non-null    object\n",
      " 4   Current       154 non-null    object\n",
      " 5   Return        154 non-null    object\n",
      "dtypes: object(6)\n",
      "memory usage: 7.3+ KB\n"
     ]
    },
    {
     "name": "stderr",
     "output_type": "stream",
     "text": [
      "/tmp/ipykernel_11775/2153473391.py:4: FutureWarning: Passing literal html to 'read_html' is deprecated and will be removed in a future version. To read from a literal string, wrap it in a 'StringIO' object.\n",
      "  ipo_dfs = pd.read_html(response.text)\n"
     ]
    }
   ],
   "source": [
    "url = \"https://stockanalysis.com/ipos/2023/\"\n",
    "response = requests.get(url, headers=headers)\n",
    "\n",
    "ipo_dfs = pd.read_html(response.text)\n",
    "\n",
    "ipos_2023 = ipo_dfs[0]\n",
    "ipos_2023.info()"
   ]
  },
  {
   "cell_type": "code",
   "execution_count": 25,
   "id": "95918820-811e-4aef-8855-2dd1b3e2cf26",
   "metadata": {},
   "outputs": [
    {
     "name": "stdout",
     "output_type": "stream",
     "text": [
      "<class 'pandas.core.frame.DataFrame'>\n",
      "RangeIndex: 65 entries, 0 to 64\n",
      "Data columns (total 6 columns):\n",
      " #   Column        Non-Null Count  Dtype \n",
      "---  ------        --------------  ----- \n",
      " 0   IPO Date      65 non-null     object\n",
      " 1   Symbol        65 non-null     object\n",
      " 2   Company Name  65 non-null     object\n",
      " 3   IPO Price     65 non-null     object\n",
      " 4   Current       65 non-null     object\n",
      " 5   Return        65 non-null     object\n",
      "dtypes: object(6)\n",
      "memory usage: 3.2+ KB\n"
     ]
    },
    {
     "name": "stderr",
     "output_type": "stream",
     "text": [
      "/tmp/ipykernel_11775/439280575.py:4: FutureWarning: Passing literal html to 'read_html' is deprecated and will be removed in a future version. To read from a literal string, wrap it in a 'StringIO' object.\n",
      "  ipo_dfs = pd.read_html(response.text)\n"
     ]
    }
   ],
   "source": [
    "url = \"https://stockanalysis.com/ipos/2024/\"\n",
    "response = requests.get(url, headers=headers)\n",
    "\n",
    "ipo_dfs = pd.read_html(response.text)\n",
    "\n",
    "ipos_2024 = ipo_dfs[0]\n",
    "ipos_2024.info()"
   ]
  },
  {
   "cell_type": "code",
   "execution_count": 26,
   "id": "fb98af45-67a2-47d1-8239-1e2ffb0c4708",
   "metadata": {},
   "outputs": [],
   "source": [
    "stacked_ipos_df = pd.concat([ipos_2024, ipos_2023], ignore_index=True)\n",
    "stacked_ipos_df['IPO Date'] = pd.to_datetime(stacked_ipos_df['IPO Date'], format='%b %d, %Y')"
   ]
  },
  {
   "cell_type": "code",
   "execution_count": 27,
   "id": "49fff31d-0864-477e-950e-8619a9b4f903",
   "metadata": {},
   "outputs": [
    {
     "data": {
      "text/plain": [
       "(185,)"
      ]
     },
     "execution_count": 27,
     "metadata": {},
     "output_type": "execute_result"
    }
   ],
   "source": [
    "stacked_ipos_df.loc[stacked_ipos_df['IPO Date'] < '2024-03-01', 'Symbol'].shape"
   ]
  },
  {
   "cell_type": "code",
   "execution_count": 28,
   "id": "831a1e73-2816-48c8-a4be-4a4550b0dca0",
   "metadata": {},
   "outputs": [],
   "source": [
    "tickers = stacked_ipos_df.loc[stacked_ipos_df['IPO Date'] < '2024-03-01', 'Symbol'].to_list()"
   ]
  },
  {
   "cell_type": "code",
   "execution_count": 29,
   "id": "ebe8621b-53f1-4cf6-bec0-15732232530f",
   "metadata": {},
   "outputs": [],
   "source": [
    "tickers.sort()"
   ]
  },
  {
   "cell_type": "code",
   "execution_count": 30,
   "id": "eb01a6ac-a01c-4a15-bd4e-27abfe9cc543",
   "metadata": {},
   "outputs": [],
   "source": [
    "ticker_mapping = {\n",
    "    'PTHR': 'PTHRU', \n",
    "    'RYZB': 'RYZB'   \n",
    "}"
   ]
  },
  {
   "cell_type": "code",
   "execution_count": 31,
   "id": "93532cf0-e79f-4c43-a809-6f2399a5a2e6",
   "metadata": {},
   "outputs": [],
   "source": [
    "tickers = ['PTHRU' if t == 'PTHR' else t for t in tickers]"
   ]
  },
  {
   "cell_type": "code",
   "execution_count": 32,
   "id": "b2274320-fbe1-42a3-afa5-5028661800a7",
   "metadata": {},
   "outputs": [],
   "source": [
    "tickers_string = ' '.join(tickers).replace('PTHR', 'PTHRU')\n",
    "# RayzeBio, Inc. does not seem to be traded anymore"
   ]
  },
  {
   "cell_type": "code",
   "execution_count": 33,
   "id": "faba08f9-b9cc-4426-b1f5-6d17414df922",
   "metadata": {},
   "outputs": [
    {
     "name": "stderr",
     "output_type": "stream",
     "text": [
      "[*********************100%%**********************]  185 of 185 completed\n",
      "\n",
      "2 Failed downloads:\n",
      "['PTHRUU', 'RYZB']: Exception('%ticker%: No timezone found, symbol may be delisted')\n"
     ]
    }
   ],
   "source": [
    "data = yf.download(tickers_string, start=\"2023-01-01\")"
   ]
  },
  {
   "cell_type": "code",
   "execution_count": 34,
   "id": "280e1f59-119f-462f-8959-c87ed2c0684c",
   "metadata": {},
   "outputs": [
    {
     "data": {
      "text/html": [
       "<div>\n",
       "<style scoped>\n",
       "    .dataframe tbody tr th:only-of-type {\n",
       "        vertical-align: middle;\n",
       "    }\n",
       "\n",
       "    .dataframe tbody tr th {\n",
       "        vertical-align: top;\n",
       "    }\n",
       "\n",
       "    .dataframe thead th {\n",
       "        text-align: right;\n",
       "    }\n",
       "</style>\n",
       "<table border=\"1\" class=\"dataframe\">\n",
       "  <thead>\n",
       "    <tr style=\"text-align: right;\">\n",
       "      <th></th>\n",
       "      <th>IPO Date</th>\n",
       "      <th>Symbol</th>\n",
       "      <th>Company Name</th>\n",
       "      <th>IPO Price</th>\n",
       "      <th>Current</th>\n",
       "      <th>Return</th>\n",
       "    </tr>\n",
       "  </thead>\n",
       "  <tbody>\n",
       "    <tr>\n",
       "      <th>34</th>\n",
       "      <td>2024-02-27</td>\n",
       "      <td>SMXT</td>\n",
       "      <td>SolarMax Technology, Inc.</td>\n",
       "      <td>$4.00</td>\n",
       "      <td>$10.80</td>\n",
       "      <td>163.63%</td>\n",
       "    </tr>\n",
       "    <tr>\n",
       "      <th>35</th>\n",
       "      <td>2024-02-22</td>\n",
       "      <td>VHAI</td>\n",
       "      <td>Vocodia Holdings Corp</td>\n",
       "      <td>$4.25</td>\n",
       "      <td>$0.14</td>\n",
       "      <td>-96.86%</td>\n",
       "    </tr>\n",
       "    <tr>\n",
       "      <th>36</th>\n",
       "      <td>2024-02-21</td>\n",
       "      <td>DYCQ</td>\n",
       "      <td>DT Cloud Acquisition Corporation</td>\n",
       "      <td>$10.00</td>\n",
       "      <td>$10.15</td>\n",
       "      <td>1.60%</td>\n",
       "    </tr>\n",
       "    <tr>\n",
       "      <th>37</th>\n",
       "      <td>2024-02-16</td>\n",
       "      <td>CHRO</td>\n",
       "      <td>Chromocell Therapeutics Corp</td>\n",
       "      <td>$6.00</td>\n",
       "      <td>$1.77</td>\n",
       "      <td>-69.38%</td>\n",
       "    </tr>\n",
       "    <tr>\n",
       "      <th>38</th>\n",
       "      <td>2024-02-14</td>\n",
       "      <td>UMAC</td>\n",
       "      <td>Unusual Machines, Inc.</td>\n",
       "      <td>$4.00</td>\n",
       "      <td>$1.05</td>\n",
       "      <td>-74.50%</td>\n",
       "    </tr>\n",
       "    <tr>\n",
       "      <th>...</th>\n",
       "      <td>...</td>\n",
       "      <td>...</td>\n",
       "      <td>...</td>\n",
       "      <td>...</td>\n",
       "      <td>...</td>\n",
       "      <td>...</td>\n",
       "    </tr>\n",
       "    <tr>\n",
       "      <th>214</th>\n",
       "      <td>2023-01-25</td>\n",
       "      <td>QSG</td>\n",
       "      <td>QuantaSing Group Ltd</td>\n",
       "      <td>$12.50</td>\n",
       "      <td>$3.16</td>\n",
       "      <td>-74.48%</td>\n",
       "    </tr>\n",
       "    <tr>\n",
       "      <th>215</th>\n",
       "      <td>2023-01-20</td>\n",
       "      <td>CVKD</td>\n",
       "      <td>Cadrenal Therapeutics, Inc.</td>\n",
       "      <td>$5.00</td>\n",
       "      <td>$0.50</td>\n",
       "      <td>-90.40%</td>\n",
       "    </tr>\n",
       "    <tr>\n",
       "      <th>216</th>\n",
       "      <td>2023-01-13</td>\n",
       "      <td>SKWD</td>\n",
       "      <td>Skyward Specialty Insurance Group, Inc.</td>\n",
       "      <td>$15.00</td>\n",
       "      <td>$37.59</td>\n",
       "      <td>150.73%</td>\n",
       "    </tr>\n",
       "    <tr>\n",
       "      <th>217</th>\n",
       "      <td>2023-01-13</td>\n",
       "      <td>ISRL</td>\n",
       "      <td>Israel Acquisitions Corp</td>\n",
       "      <td>$10.00</td>\n",
       "      <td>$10.93</td>\n",
       "      <td>9.30%</td>\n",
       "    </tr>\n",
       "    <tr>\n",
       "      <th>218</th>\n",
       "      <td>2023-01-13</td>\n",
       "      <td>MGOL</td>\n",
       "      <td>MGO Global Inc.</td>\n",
       "      <td>$5.00</td>\n",
       "      <td>$0.23</td>\n",
       "      <td>-95.50%</td>\n",
       "    </tr>\n",
       "  </tbody>\n",
       "</table>\n",
       "<p>185 rows × 6 columns</p>\n",
       "</div>"
      ],
      "text/plain": [
       "      IPO Date Symbol                             Company Name IPO Price  \\\n",
       "34  2024-02-27   SMXT                SolarMax Technology, Inc.     $4.00   \n",
       "35  2024-02-22   VHAI                    Vocodia Holdings Corp     $4.25   \n",
       "36  2024-02-21   DYCQ         DT Cloud Acquisition Corporation    $10.00   \n",
       "37  2024-02-16   CHRO             Chromocell Therapeutics Corp     $6.00   \n",
       "38  2024-02-14   UMAC                   Unusual Machines, Inc.     $4.00   \n",
       "..         ...    ...                                      ...       ...   \n",
       "214 2023-01-25    QSG                     QuantaSing Group Ltd    $12.50   \n",
       "215 2023-01-20   CVKD              Cadrenal Therapeutics, Inc.     $5.00   \n",
       "216 2023-01-13   SKWD  Skyward Specialty Insurance Group, Inc.    $15.00   \n",
       "217 2023-01-13   ISRL                 Israel Acquisitions Corp    $10.00   \n",
       "218 2023-01-13   MGOL                          MGO Global Inc.     $5.00   \n",
       "\n",
       "    Current   Return  \n",
       "34   $10.80  163.63%  \n",
       "35    $0.14  -96.86%  \n",
       "36   $10.15    1.60%  \n",
       "37    $1.77  -69.38%  \n",
       "38    $1.05  -74.50%  \n",
       "..      ...      ...  \n",
       "214   $3.16  -74.48%  \n",
       "215   $0.50  -90.40%  \n",
       "216  $37.59  150.73%  \n",
       "217  $10.93    9.30%  \n",
       "218   $0.23  -95.50%  \n",
       "\n",
       "[185 rows x 6 columns]"
      ]
     },
     "execution_count": 34,
     "metadata": {},
     "output_type": "execute_result"
    }
   ],
   "source": [
    "stacked_ipos_df.loc[stacked_ipos_df['IPO Date'] < '2024-03-01']"
   ]
  },
  {
   "cell_type": "code",
   "execution_count": 35,
   "id": "38380fe2-facb-4cbe-9450-a2a0fbc759e2",
   "metadata": {},
   "outputs": [
    {
     "data": {
      "text/plain": [
       "179   2023-03-30\n",
       "Name: IPO Date, dtype: datetime64[ns]"
      ]
     },
     "execution_count": 35,
     "metadata": {},
     "output_type": "execute_result"
    }
   ],
   "source": [
    "stacked_ipos_df[stacked_ipos_df['Symbol'] == 'CHSN']['IPO Date']"
   ]
  },
  {
   "cell_type": "code",
   "execution_count": 36,
   "id": "b27f13fb-19cb-47bb-a21c-228965d3b309",
   "metadata": {},
   "outputs": [
    {
     "name": "stdout",
     "output_type": "stream",
     "text": [
      "DYCQ\n",
      "LEGT\n",
      "PTHRU\n",
      "RYZB\n"
     ]
    }
   ],
   "source": [
    "growth = {}\n",
    "for ticker in tickers:\n",
    "    try:\n",
    "        ipo_date = data[data['Adj Close'][ticker].notna()].index[0]\n",
    "        ipo_idx = data.index.get_loc(ipo_date)\n",
    "        ipo_price = data['Adj Close'][ticker].iloc[ipo_idx]\n",
    "        growth[ticker] = [(data['Adj Close'][ticker].iloc[i]-ipo_price)/ipo_price for i in range(ipo_idx, ipo_idx+30)]\n",
    "    except:\n",
    "        print(ticker)\n",
    "\n",
    "df_growth = pd.DataFrame(growth)"
   ]
  },
  {
   "cell_type": "code",
   "execution_count": 37,
   "id": "dc69f194-aacf-49ee-9507-8dfd12b48faa",
   "metadata": {},
   "outputs": [
    {
     "data": {
      "text/html": [
       "<div>\n",
       "<style scoped>\n",
       "    .dataframe tbody tr th:only-of-type {\n",
       "        vertical-align: middle;\n",
       "    }\n",
       "\n",
       "    .dataframe tbody tr th {\n",
       "        vertical-align: top;\n",
       "    }\n",
       "\n",
       "    .dataframe thead th {\n",
       "        text-align: right;\n",
       "    }\n",
       "</style>\n",
       "<table border=\"1\" class=\"dataframe\">\n",
       "  <thead>\n",
       "    <tr style=\"text-align: right;\">\n",
       "      <th></th>\n",
       "      <th>0</th>\n",
       "      <th>1</th>\n",
       "      <th>2</th>\n",
       "      <th>3</th>\n",
       "      <th>4</th>\n",
       "      <th>5</th>\n",
       "      <th>6</th>\n",
       "      <th>7</th>\n",
       "      <th>8</th>\n",
       "      <th>9</th>\n",
       "      <th>...</th>\n",
       "      <th>20</th>\n",
       "      <th>21</th>\n",
       "      <th>22</th>\n",
       "      <th>23</th>\n",
       "      <th>24</th>\n",
       "      <th>25</th>\n",
       "      <th>26</th>\n",
       "      <th>27</th>\n",
       "      <th>28</th>\n",
       "      <th>29</th>\n",
       "    </tr>\n",
       "  </thead>\n",
       "  <tbody>\n",
       "    <tr>\n",
       "      <th>count</th>\n",
       "      <td>181.0</td>\n",
       "      <td>181.000000</td>\n",
       "      <td>181.000000</td>\n",
       "      <td>181.000000</td>\n",
       "      <td>181.000000</td>\n",
       "      <td>181.000000</td>\n",
       "      <td>181.000000</td>\n",
       "      <td>181.000000</td>\n",
       "      <td>181.000000</td>\n",
       "      <td>181.000000</td>\n",
       "      <td>...</td>\n",
       "      <td>181.000000</td>\n",
       "      <td>181.000000</td>\n",
       "      <td>181.000000</td>\n",
       "      <td>181.000000</td>\n",
       "      <td>181.000000</td>\n",
       "      <td>181.000000</td>\n",
       "      <td>181.000000</td>\n",
       "      <td>181.000000</td>\n",
       "      <td>181.000000</td>\n",
       "      <td>181.000000</td>\n",
       "    </tr>\n",
       "    <tr>\n",
       "      <th>mean</th>\n",
       "      <td>0.0</td>\n",
       "      <td>-0.053568</td>\n",
       "      <td>-0.061671</td>\n",
       "      <td>-0.069175</td>\n",
       "      <td>-0.079447</td>\n",
       "      <td>-0.087056</td>\n",
       "      <td>-0.093864</td>\n",
       "      <td>-0.104689</td>\n",
       "      <td>-0.105880</td>\n",
       "      <td>-0.103358</td>\n",
       "      <td>...</td>\n",
       "      <td>-0.085163</td>\n",
       "      <td>-0.081967</td>\n",
       "      <td>-0.088754</td>\n",
       "      <td>-0.090860</td>\n",
       "      <td>-0.093606</td>\n",
       "      <td>-0.100961</td>\n",
       "      <td>-0.101141</td>\n",
       "      <td>-0.070312</td>\n",
       "      <td>-0.065560</td>\n",
       "      <td>-0.065911</td>\n",
       "    </tr>\n",
       "    <tr>\n",
       "      <th>std</th>\n",
       "      <td>0.0</td>\n",
       "      <td>0.172889</td>\n",
       "      <td>0.206936</td>\n",
       "      <td>0.249107</td>\n",
       "      <td>0.265115</td>\n",
       "      <td>0.295587</td>\n",
       "      <td>0.310356</td>\n",
       "      <td>0.299981</td>\n",
       "      <td>0.322735</td>\n",
       "      <td>0.354094</td>\n",
       "      <td>...</td>\n",
       "      <td>0.493599</td>\n",
       "      <td>0.512867</td>\n",
       "      <td>0.473753</td>\n",
       "      <td>0.480087</td>\n",
       "      <td>0.485429</td>\n",
       "      <td>0.481636</td>\n",
       "      <td>0.522515</td>\n",
       "      <td>0.784932</td>\n",
       "      <td>0.786188</td>\n",
       "      <td>0.784360</td>\n",
       "    </tr>\n",
       "    <tr>\n",
       "      <th>min</th>\n",
       "      <td>0.0</td>\n",
       "      <td>-0.846431</td>\n",
       "      <td>-0.891267</td>\n",
       "      <td>-0.913359</td>\n",
       "      <td>-0.905743</td>\n",
       "      <td>-0.918882</td>\n",
       "      <td>-0.912323</td>\n",
       "      <td>-0.914739</td>\n",
       "      <td>-0.909877</td>\n",
       "      <td>-0.904384</td>\n",
       "      <td>...</td>\n",
       "      <td>-0.950121</td>\n",
       "      <td>-0.951674</td>\n",
       "      <td>-0.951674</td>\n",
       "      <td>-0.950639</td>\n",
       "      <td>-0.951674</td>\n",
       "      <td>-0.951674</td>\n",
       "      <td>-0.954781</td>\n",
       "      <td>-0.955471</td>\n",
       "      <td>-0.953055</td>\n",
       "      <td>-0.957197</td>\n",
       "    </tr>\n",
       "    <tr>\n",
       "      <th>25%</th>\n",
       "      <td>0.0</td>\n",
       "      <td>-0.095890</td>\n",
       "      <td>-0.122449</td>\n",
       "      <td>-0.150000</td>\n",
       "      <td>-0.167500</td>\n",
       "      <td>-0.219455</td>\n",
       "      <td>-0.250000</td>\n",
       "      <td>-0.218750</td>\n",
       "      <td>-0.253429</td>\n",
       "      <td>-0.271429</td>\n",
       "      <td>...</td>\n",
       "      <td>-0.347917</td>\n",
       "      <td>-0.347352</td>\n",
       "      <td>-0.368580</td>\n",
       "      <td>-0.380645</td>\n",
       "      <td>-0.365639</td>\n",
       "      <td>-0.382879</td>\n",
       "      <td>-0.400000</td>\n",
       "      <td>-0.394813</td>\n",
       "      <td>-0.360784</td>\n",
       "      <td>-0.372277</td>\n",
       "    </tr>\n",
       "    <tr>\n",
       "      <th>50%</th>\n",
       "      <td>0.0</td>\n",
       "      <td>0.000000</td>\n",
       "      <td>-0.000899</td>\n",
       "      <td>-0.002314</td>\n",
       "      <td>-0.004988</td>\n",
       "      <td>-0.005714</td>\n",
       "      <td>-0.029595</td>\n",
       "      <td>-0.026849</td>\n",
       "      <td>-0.019324</td>\n",
       "      <td>-0.017448</td>\n",
       "      <td>...</td>\n",
       "      <td>-0.025000</td>\n",
       "      <td>-0.022222</td>\n",
       "      <td>-0.007500</td>\n",
       "      <td>-0.015491</td>\n",
       "      <td>-0.016489</td>\n",
       "      <td>-0.027157</td>\n",
       "      <td>-0.013793</td>\n",
       "      <td>-0.011818</td>\n",
       "      <td>-0.024537</td>\n",
       "      <td>-0.020654</td>\n",
       "    </tr>\n",
       "    <tr>\n",
       "      <th>75%</th>\n",
       "      <td>0.0</td>\n",
       "      <td>0.016667</td>\n",
       "      <td>0.021407</td>\n",
       "      <td>0.011162</td>\n",
       "      <td>0.010204</td>\n",
       "      <td>0.010204</td>\n",
       "      <td>0.007857</td>\n",
       "      <td>0.006897</td>\n",
       "      <td>0.008815</td>\n",
       "      <td>0.011896</td>\n",
       "      <td>...</td>\n",
       "      <td>0.015584</td>\n",
       "      <td>0.014706</td>\n",
       "      <td>0.038710</td>\n",
       "      <td>0.029362</td>\n",
       "      <td>0.040847</td>\n",
       "      <td>0.030000</td>\n",
       "      <td>0.040647</td>\n",
       "      <td>0.046142</td>\n",
       "      <td>0.045305</td>\n",
       "      <td>0.030118</td>\n",
       "    </tr>\n",
       "    <tr>\n",
       "      <th>max</th>\n",
       "      <td>0.0</td>\n",
       "      <td>0.362069</td>\n",
       "      <td>0.464015</td>\n",
       "      <td>1.380000</td>\n",
       "      <td>1.083710</td>\n",
       "      <td>1.262443</td>\n",
       "      <td>1.529870</td>\n",
       "      <td>1.173913</td>\n",
       "      <td>1.359740</td>\n",
       "      <td>1.751948</td>\n",
       "      <td>...</td>\n",
       "      <td>2.970454</td>\n",
       "      <td>3.500000</td>\n",
       "      <td>2.871041</td>\n",
       "      <td>2.846154</td>\n",
       "      <td>2.803394</td>\n",
       "      <td>2.427273</td>\n",
       "      <td>3.817886</td>\n",
       "      <td>8.056122</td>\n",
       "      <td>8.081632</td>\n",
       "      <td>8.265306</td>\n",
       "    </tr>\n",
       "  </tbody>\n",
       "</table>\n",
       "<p>8 rows × 30 columns</p>\n",
       "</div>"
      ],
      "text/plain": [
       "          0           1           2           3           4           5   \\\n",
       "count  181.0  181.000000  181.000000  181.000000  181.000000  181.000000   \n",
       "mean     0.0   -0.053568   -0.061671   -0.069175   -0.079447   -0.087056   \n",
       "std      0.0    0.172889    0.206936    0.249107    0.265115    0.295587   \n",
       "min      0.0   -0.846431   -0.891267   -0.913359   -0.905743   -0.918882   \n",
       "25%      0.0   -0.095890   -0.122449   -0.150000   -0.167500   -0.219455   \n",
       "50%      0.0    0.000000   -0.000899   -0.002314   -0.004988   -0.005714   \n",
       "75%      0.0    0.016667    0.021407    0.011162    0.010204    0.010204   \n",
       "max      0.0    0.362069    0.464015    1.380000    1.083710    1.262443   \n",
       "\n",
       "               6           7           8           9   ...          20  \\\n",
       "count  181.000000  181.000000  181.000000  181.000000  ...  181.000000   \n",
       "mean    -0.093864   -0.104689   -0.105880   -0.103358  ...   -0.085163   \n",
       "std      0.310356    0.299981    0.322735    0.354094  ...    0.493599   \n",
       "min     -0.912323   -0.914739   -0.909877   -0.904384  ...   -0.950121   \n",
       "25%     -0.250000   -0.218750   -0.253429   -0.271429  ...   -0.347917   \n",
       "50%     -0.029595   -0.026849   -0.019324   -0.017448  ...   -0.025000   \n",
       "75%      0.007857    0.006897    0.008815    0.011896  ...    0.015584   \n",
       "max      1.529870    1.173913    1.359740    1.751948  ...    2.970454   \n",
       "\n",
       "               21          22          23          24          25          26  \\\n",
       "count  181.000000  181.000000  181.000000  181.000000  181.000000  181.000000   \n",
       "mean    -0.081967   -0.088754   -0.090860   -0.093606   -0.100961   -0.101141   \n",
       "std      0.512867    0.473753    0.480087    0.485429    0.481636    0.522515   \n",
       "min     -0.951674   -0.951674   -0.950639   -0.951674   -0.951674   -0.954781   \n",
       "25%     -0.347352   -0.368580   -0.380645   -0.365639   -0.382879   -0.400000   \n",
       "50%     -0.022222   -0.007500   -0.015491   -0.016489   -0.027157   -0.013793   \n",
       "75%      0.014706    0.038710    0.029362    0.040847    0.030000    0.040647   \n",
       "max      3.500000    2.871041    2.846154    2.803394    2.427273    3.817886   \n",
       "\n",
       "               27          28          29  \n",
       "count  181.000000  181.000000  181.000000  \n",
       "mean    -0.070312   -0.065560   -0.065911  \n",
       "std      0.784932    0.786188    0.784360  \n",
       "min     -0.955471   -0.953055   -0.957197  \n",
       "25%     -0.394813   -0.360784   -0.372277  \n",
       "50%     -0.011818   -0.024537   -0.020654  \n",
       "75%      0.046142    0.045305    0.030118  \n",
       "max      8.056122    8.081632    8.265306  \n",
       "\n",
       "[8 rows x 30 columns]"
      ]
     },
     "execution_count": 37,
     "metadata": {},
     "output_type": "execute_result"
    }
   ],
   "source": [
    "df_growth.T.describe()"
   ]
  },
  {
   "cell_type": "code",
   "execution_count": 43,
   "id": "5dfa4bd2-9b0f-4139-aced-d3c9a04178ea",
   "metadata": {},
   "outputs": [
    {
     "data": {
      "text/plain": [
       "0     0.000000\n",
       "1     0.016667\n",
       "2     0.021407\n",
       "3     0.011162\n",
       "4     0.010204\n",
       "5     0.010204\n",
       "6     0.007857\n",
       "7     0.006897\n",
       "8     0.008815\n",
       "9     0.011896\n",
       "10    0.012069\n",
       "11    0.014377\n",
       "12    0.017699\n",
       "13    0.020355\n",
       "14    0.020000\n",
       "15    0.019900\n",
       "16    0.019608\n",
       "17    0.012745\n",
       "18    0.015929\n",
       "19    0.021154\n",
       "20    0.015584\n",
       "21    0.014706\n",
       "22    0.038710\n",
       "23    0.029362\n",
       "24    0.040847\n",
       "25    0.030000\n",
       "26    0.040647\n",
       "27    0.046142\n",
       "28    0.045305\n",
       "29    0.030118\n",
       "Name: 75%, dtype: float64"
      ]
     },
     "execution_count": 43,
     "metadata": {},
     "output_type": "execute_result"
    }
   ],
   "source": [
    "df_growth.T.describe().loc['75%']"
   ]
  },
  {
   "cell_type": "markdown",
   "id": "4b224f5d-93d2-4035-b708-482ded58801f",
   "metadata": {},
   "source": [
    "After 28 days."
   ]
  },
  {
   "cell_type": "markdown",
   "id": "cfb91ff4-7111-472d-bd8e-2d988105883d",
   "metadata": {},
   "source": [
    "# Question 3: Get the share of days (percentage as int) when Large Stocks outperform (growth_7d - growth over 7 periods back) the Largest stocks?"
   ]
  },
  {
   "cell_type": "code",
   "execution_count": 44,
   "id": "d09e5885-e2c7-448d-becd-bb735aa1783b",
   "metadata": {},
   "outputs": [],
   "source": [
    "US_STOCKS = ['MSFT', 'AAPL', 'GOOG', 'NVDA', 'AMZN', 'META', 'BRK-B', 'LLY', 'AVGO','V', 'JPM']\n",
    "\n",
    "EU_STOCKS = ['NVO','MC.PA', 'ASML', 'RMS.PA', 'OR.PA', 'SAP', 'ACN', 'TTE', 'SIE.DE','IDEXY','CDI.PA']\n",
    "\n",
    "INDIA_STOCKS = ['RELIANCE.NS','TCS.NS','HDB','BHARTIARTL.NS','IBN','SBIN.NS','LICI.NS','INFY','ITC.NS','HINDUNILVR.NS','LT.NS']\n",
    "\n",
    "LARGEST_STOCKS = US_STOCKS + EU_STOCKS + INDIA_STOCKS"
   ]
  },
  {
   "cell_type": "code",
   "execution_count": 45,
   "id": "5ca0e3cc-7cca-4dc8-a6b4-67c1b889f0ac",
   "metadata": {},
   "outputs": [],
   "source": [
    "NEW_US = ['TSLA','WMT','XOM','UNH','MA','PG','JNJ','MRK','HD','COST','ORCL']\n",
    "\n",
    "NEW_EU = ['PRX.AS','CDI.PA','AIR.PA','SU.PA','ETN','SNY','BUD','DTE.DE','ALV.DE','MDT','AI.PA','EL.PA']\n",
    "\n",
    "NEW_INDIA = ['BAJFINANCE.NS','MARUTI.NS','HCLTECH.NS','TATAMOTORS.NS','SUNPHARMA.NS','ONGC.NS','ADANIENT.NS','NTPC.NS','KOTAKBANK.NS','TITAN.NS']\n",
    "\n",
    "LARGE_STOCKS = NEW_EU + NEW_US + NEW_INDIA"
   ]
  },
  {
   "cell_type": "code",
   "execution_count": 46,
   "id": "3f2892a0-e958-424d-b829-b4b1d6bf840d",
   "metadata": {},
   "outputs": [
    {
     "data": {
      "text/plain": [
       "33"
      ]
     },
     "execution_count": 46,
     "metadata": {},
     "output_type": "execute_result"
    }
   ],
   "source": [
    "len(set(LARGE_STOCKS))"
   ]
  },
  {
   "cell_type": "code",
   "execution_count": 47,
   "id": "8348221b-57dd-49a3-b2c0-7a0f3e094f29",
   "metadata": {},
   "outputs": [
    {
     "name": "stderr",
     "output_type": "stream",
     "text": [
      "[*********************100%%**********************]  33 of 33 completed\n",
      "[*********************100%%**********************]  33 of 33 completed\n"
     ]
    }
   ],
   "source": [
    "largest = yf.download(LARGEST_STOCKS, start=\"2013-12-15\", end=\"2023-12-31\")\n",
    "large = yf.download(LARGE_STOCKS, start=\"2013-12-15\", end=\"2023-12-31\")"
   ]
  },
  {
   "cell_type": "code",
   "execution_count": 48,
   "id": "36dbea61-f252-4731-ab09-fbe90f3c3e03",
   "metadata": {},
   "outputs": [],
   "source": [
    "largest = largest['Adj Close']\n",
    "large = large['Adj Close']"
   ]
  },
  {
   "cell_type": "code",
   "execution_count": 49,
   "id": "0a02bef1-737c-4dca-a241-104fc0763ef0",
   "metadata": {},
   "outputs": [
    {
     "data": {
      "text/plain": [
       "(2606, 33)"
      ]
     },
     "execution_count": 49,
     "metadata": {},
     "output_type": "execute_result"
    }
   ],
   "source": [
    "large.shape"
   ]
  },
  {
   "cell_type": "code",
   "execution_count": 50,
   "id": "a23dfa72-1d2e-4a09-9dd5-75e9eb3a2d03",
   "metadata": {},
   "outputs": [],
   "source": [
    "largest[[f'{t}_growth_7d' for t in LARGEST_STOCKS]] = largest / largest.shift(7)\n",
    "large[[f'{t}_growth_7d' for t in LARGE_STOCKS]] = large / large.shift(7)"
   ]
  },
  {
   "cell_type": "code",
   "execution_count": 51,
   "id": "99c82036-ccda-4157-a9d0-5b75a377f377",
   "metadata": {},
   "outputs": [],
   "source": [
    "largest = largest.loc['2014-01-01':][[c for c in largest.columns if 'growth' in c]].mean(axis=1)"
   ]
  },
  {
   "cell_type": "code",
   "execution_count": 52,
   "id": "641f6d05-9cb0-47ef-a5ae-7606aa7aba28",
   "metadata": {},
   "outputs": [],
   "source": [
    "large = large.loc['2014-01-01':][[c for c in large.columns if 'growth' in c]].mean(axis=1)"
   ]
  },
  {
   "cell_type": "code",
   "execution_count": 53,
   "id": "fa178721-38b5-47af-bb7d-a4549a64a2a7",
   "metadata": {},
   "outputs": [
    {
     "data": {
      "text/plain": [
       "True"
      ]
     },
     "execution_count": 53,
     "metadata": {},
     "output_type": "execute_result"
    }
   ],
   "source": [
    "(large.index == largest.index).all()"
   ]
  },
  {
   "cell_type": "code",
   "execution_count": 54,
   "id": "8a865f7d-5325-4643-93a7-6ad55dab2bd0",
   "metadata": {},
   "outputs": [
    {
     "data": {
      "text/plain": [
       "(2595,)"
      ]
     },
     "execution_count": 54,
     "metadata": {},
     "output_type": "execute_result"
    }
   ],
   "source": [
    "large.shape"
   ]
  },
  {
   "cell_type": "code",
   "execution_count": 55,
   "id": "5e56127a-520e-4788-b793-67c31f5e84ed",
   "metadata": {},
   "outputs": [
    {
     "data": {
      "text/plain": [
       "0.4662813102119461"
      ]
     },
     "execution_count": 55,
     "metadata": {},
     "output_type": "execute_result"
    }
   ],
   "source": [
    "(large > largest).sum()/large.shape[0]"
   ]
  },
  {
   "cell_type": "markdown",
   "id": "6cb7954e-5f15-4ce2-85e3-417efb241e3a",
   "metadata": {},
   "source": [
    "47%"
   ]
  },
  {
   "cell_type": "markdown",
   "id": "ff8391ec-b75f-4844-a855-de1f6d900bd5",
   "metadata": {},
   "source": [
    "# Question 4: What's the total gross profit (in THOUSANDS of $) you'll get from trading on CCI (no fees assumption)?"
   ]
  },
  {
   "cell_type": "code",
   "execution_count": 56,
   "id": "26f028e1-26f6-4252-8dd7-eb30956e31d9",
   "metadata": {},
   "outputs": [],
   "source": [
    "df = pd.read_parquet('/home/tim/Downloads/stocks_df_combined_trunc_2014_2023.parquet.brotli')"
   ]
  },
  {
   "cell_type": "code",
   "execution_count": 57,
   "id": "f28e13c1-13b8-4f3b-af2d-d488319dafbe",
   "metadata": {},
   "outputs": [],
   "source": [
    "profit = 0\n",
    "trades = 0\n",
    "for date in df[df['Weekday'] == 4]['Date'].unique():\n",
    "    if not df[(df['Date'] == date) & (df['cci'] > 200)].empty:\n",
    "        for ticker in df[(df['Date'] == date) & (df['cci'] > 200)]['Ticker']:\n",
    "            trades += 1\n",
    "            buy_price = df[(df['Date'] == date) & (df['Ticker'] == ticker)]['Adj Close_x'].values[0]\n",
    "            for extra_days in [0, 1, 2, 3]:\n",
    "                if not df[(df['Date'] == date + pd.Timedelta(days=7+ extra_days)) & (df['Ticker'] == ticker)]['Adj Close_x'].empty:\n",
    "                    sell_price = df[(df['Date'] == date + pd.Timedelta(days=7+ extra_days)) & (df['Ticker'] == ticker)]['Adj Close_x'].values[0]\n",
    "                    break\n",
    "            profit += ((sell_price - buy_price)/buy_price) * 1000"
   ]
  },
  {
   "cell_type": "code",
   "execution_count": 58,
   "id": "d7c78125-6d69-42b6-8e50-30ccc1e15f0c",
   "metadata": {},
   "outputs": [
    {
     "data": {
      "text/plain": [
       "460"
      ]
     },
     "execution_count": 58,
     "metadata": {},
     "output_type": "execute_result"
    }
   ],
   "source": [
    "trades"
   ]
  },
  {
   "cell_type": "code",
   "execution_count": 61,
   "id": "4f1ba9d6-39ec-47c5-a3d0-ec8bf121a402",
   "metadata": {},
   "outputs": [
    {
     "data": {
      "text/plain": [
       "1206.1765251011268"
      ]
     },
     "execution_count": 61,
     "metadata": {},
     "output_type": "execute_result"
    }
   ],
   "source": [
    "profit"
   ]
  },
  {
   "cell_type": "markdown",
   "id": "0dae4523-e91d-404b-bf4f-8ac50f27f10a",
   "metadata": {},
   "source": [
    "1k"
   ]
  },
  {
   "cell_type": "markdown",
   "id": "313da6e6-6572-4241-9cd2-011dc9c0231c",
   "metadata": {},
   "source": [
    "#  Question 5: Finding Your Strategy for IPOs"
   ]
  },
  {
   "cell_type": "markdown",
   "id": "f13ad903-79be-4d3a-9d17-3fad0163727f",
   "metadata": {},
   "source": [
    "I would look at the companies profit in comparison to the profit of companies in the same sector that are already listed. In addition, it would be good to look at the companies evaluation in comparison to companies in the same sector that are already listed. If these indicators show that we might get more profit per share than what is currently available we can invest."
   ]
  }
 ],
 "metadata": {
  "kernelspec": {
   "display_name": "analytics-zoomcamp",
   "language": "python",
   "name": "analytics-zoomcamp"
  },
  "language_info": {
   "codemirror_mode": {
    "name": "ipython",
    "version": 3
   },
   "file_extension": ".py",
   "mimetype": "text/x-python",
   "name": "python",
   "nbconvert_exporter": "python",
   "pygments_lexer": "ipython3",
   "version": "3.10.9"
  }
 },
 "nbformat": 4,
 "nbformat_minor": 5
}
